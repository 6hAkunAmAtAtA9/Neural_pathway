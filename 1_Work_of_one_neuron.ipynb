{
  "nbformat": 4,
  "nbformat_minor": 0,
  "metadata": {
    "colab": {
      "name": "1. Work of one neuron.ipynb",
      "provenance": [],
      "collapsed_sections": [],
      "authorship_tag": "ABX9TyOhBkocHW/V+tGqF6aRD2mV",
      "include_colab_link": true
    },
    "kernelspec": {
      "name": "python3",
      "display_name": "Python 3"
    },
    "language_info": {
      "name": "python"
    }
  },
  "cells": [
    {
      "cell_type": "markdown",
      "metadata": {
        "id": "view-in-github",
        "colab_type": "text"
      },
      "source": [
        "<a href=\"https://colab.research.google.com/github/6hAkunAmAtAtA9/Neural_pathway/blob/main/1_Work_of_one_neuron.ipynb\" target=\"_parent\"><img src=\"https://colab.research.google.com/assets/colab-badge.svg\" alt=\"Open In Colab\"/></a>"
      ]
    },
    {
      "cell_type": "markdown",
      "source": [
        "1 часть. Делаю один нейрон. Что может быть проще и понятнее :) На вход подается одно число. Цель: определить является ли входноле число число больше 5"
      ],
      "metadata": {
        "id": "oyn1w1xRr7SR"
      }
    },
    {
      "cell_type": "markdown",
      "source": [
        "## Один вход, один нейрон"
      ],
      "metadata": {
        "id": "E75jdJ21b1cp"
      }
    },
    {
      "cell_type": "code",
      "source": [
        "import numpy as np\n",
        "import matplotlib.pyplot as plt"
      ],
      "metadata": {
        "id": "eT0Hk-6aspeM"
      },
      "execution_count": null,
      "outputs": []
    },
    {
      "cell_type": "code",
      "source": [
        "x_train = np.random.randint(10, size=50)\n",
        "y_train = (x_train > 5) * 1\n",
        "print(x_train[:5])\n",
        "print(y_train[:5])"
      ],
      "metadata": {
        "id": "4hMSUGKVs5II",
        "colab": {
          "base_uri": "https://localhost:8080/"
        },
        "outputId": "e478e377-a598-4355-c176-4b5e598d5380"
      },
      "execution_count": null,
      "outputs": [
        {
          "output_type": "stream",
          "name": "stdout",
          "text": [
            "[5 2 8 3 1]\n",
            "[0 0 1 0 0]\n"
          ]
        }
      ]
    },
    {
      "cell_type": "code",
      "execution_count": null,
      "metadata": {
        "id": "H-Ebxu-3tt62",
        "colab": {
          "base_uri": "https://localhost:8080/"
        },
        "outputId": "1562538f-2181-4b0b-e639-2504ad3c17dd"
      },
      "outputs": [
        {
          "output_type": "execute_result",
          "data": {
            "text/plain": [
              "0.3057443420851018"
            ]
          },
          "metadata": {},
          "execution_count": 56
        }
      ],
      "source": [
        "weight = np.random.random()\n",
        "weight"
      ]
    },
    {
      "cell_type": "code",
      "source": [
        "total_error = []\n",
        "total_weights = []\n",
        "for iter in range(10):\n",
        "  # print(f'***ITER: {iter}***') \n",
        "  total_weights.append(weight)\n",
        "  error = []\n",
        "  for i in range(len(x_train)):\n",
        "    # Прогноз - произведение входного значения и весов нейрона\n",
        "    pred = x_train[i] * weight\n",
        "    # Ошибка - квадратичная разность между выходом нейрона и ожидаемым значением (целью)\n",
        "    error.append((y_train[i] - pred) ** 2)\n",
        "    # Дельта - величина на которую ошибается нейрон. Знак минус: Предсказываемая величина завышена\n",
        "    # Знак плюс: Величина занижена\n",
        "    delta = y_train[i] - pred\n",
        "    # Корректировка веса нейрона на величину дельта, для изменени предсказания в сторону цели\n",
        "    weight += delta * 0.01 # Нельзя уменьшить вес на большую дельту, введем уменьшающий коэффициент\n",
        "  # print(f'ERROR: {np.mean(np.array(error))}')\n",
        "  total_error.append(np.mean(np.array(error)))"
      ],
      "metadata": {
        "id": "QVNYYSdztv3-"
      },
      "execution_count": null,
      "outputs": []
    },
    {
      "cell_type": "code",
      "source": [
        "plt.figure(figsize=(5, 5))\n",
        "plt.plot(total_error)\n",
        "plt.xlim((0,2.5))\n",
        "plt.show()"
      ],
      "metadata": {
        "id": "-fI8qRL4sZT1",
        "colab": {
          "base_uri": "https://localhost:8080/",
          "height": 320
        },
        "outputId": "9912001a-7a5c-45d6-d89b-7766da4d742c"
      },
      "execution_count": null,
      "outputs": [
        {
          "output_type": "display_data",
          "data": {
            "text/plain": [
              "<Figure size 360x360 with 1 Axes>"
            ],
            "image/png": "[encoded data removed]"
          },
          "metadata": {
            "needs_background": "light"
          }
        }
      ]
    },
    {
      "cell_type": "code",
      "source": [
        "for input in range(1, 11):\n",
        "  pred = input * weight\n",
        "  error = ((input > 5) - pred) ** 2\n",
        "  print(f'INPUT: {input}, PRED: {round(pred, 2)}, ERROR: {round(error, 2)}')"
      ],
      "metadata": {
        "colab": {
          "base_uri": "https://localhost:8080/"
        },
        "id": "x01YKc1uDdRJ",
        "outputId": "3bd606f3-ac30-4d6c-bcd6-1b2817ea7edc"
      },
      "execution_count": null,
      "outputs": [
        {
          "output_type": "stream",
          "name": "stdout",
          "text": [
            "INPUT: 1, PRED: 0.1, ERROR: 0.01\n",
            "INPUT: 2, PRED: 0.19, ERROR: 0.04\n",
            "INPUT: 3, PRED: 0.29, ERROR: 0.08\n",
            "INPUT: 4, PRED: 0.38, ERROR: 0.15\n",
            "INPUT: 5, PRED: 0.48, ERROR: 0.23\n",
            "INPUT: 6, PRED: 0.58, ERROR: 0.18\n",
            "INPUT: 7, PRED: 0.67, ERROR: 0.11\n",
            "INPUT: 8, PRED: 0.77, ERROR: 0.05\n",
            "INPUT: 9, PRED: 0.86, ERROR: 0.02\n",
            "INPUT: 10, PRED: 0.96, ERROR: 0.0\n"
          ]
        }
      ]
    },
    {
      "cell_type": "markdown",
      "source": [
        "Нейрон понял, что для минимизации ошибки  ему нужно уменьшать входное значение в 10 раз. Это единственной, что он делает. Добавлю свою первую функцию активации для нейрона."
      ],
      "metadata": {
        "id": "gvJL42VrbRQu"
      }
    },
    {
      "cell_type": "markdown",
      "source": [
        "Проведу все то же самое, но со ступенчатой функцией активации."
      ],
      "metadata": {
        "id": "Ou4e_cEmXjVa"
      }
    },
    {
      "cell_type": "code",
      "source": [
        "weight = np.random.random()\n",
        "weight"
      ],
      "metadata": {
        "colab": {
          "base_uri": "https://localhost:8080/"
        },
        "id": "cKndEklwXX2B",
        "outputId": "80d1c9a0-0e4e-415d-d59d-44cfa12b7e90"
      },
      "execution_count": null,
      "outputs": [
        {
          "output_type": "execute_result",
          "data": {
            "text/plain": [
              "0.27137589513645555"
            ]
          },
          "metadata": {},
          "execution_count": 60
        }
      ]
    },
    {
      "cell_type": "code",
      "source": [
        "total_error = []\n",
        "total_weights = []\n",
        "for iter in range(10):\n",
        "\n",
        "  total_weights.append(weight)\n",
        "  error = []\n",
        "  for i in range(len(x_train)):\n",
        "\n",
        "    pred = ((x_train[i] * weight) > 0.5) * 1\n",
        "    error.append((y_train[i] - pred) ** 2)\n",
        "    delta = y_train[i] - pred\n",
        "    weight += delta * 0.01 \n",
        "\n",
        "  total_error.append(np.mean(np.array(error)))"
      ],
      "metadata": {
        "id": "T-8aApunX5pF"
      },
      "execution_count": null,
      "outputs": []
    },
    {
      "cell_type": "code",
      "source": [
        "plt.figure(figsize=(10, 10)); plt.xlim((0,5))\n",
        "plt.plot(total_error); plt.show()"
      ],
      "metadata": {
        "colab": {
          "base_uri": "https://localhost:8080/",
          "height": 592
        },
        "id": "B1aDQVXPYF0b",
        "outputId": "11e53516-bb53-4750-d233-85410a55e7a9"
      },
      "execution_count": null,
      "outputs": [
        {
          "output_type": "display_data",
          "data": {
            "text/plain": [
              "<Figure size 720x720 with 1 Axes>"
            ],
            "image/png": "[encoded data removed]"
          },
          "metadata": {
            "needs_background": "light"
          }
        }
      ]
    },
    {
      "cell_type": "code",
      "source": [
        "for input in range(1, 11):\n",
        "  pred = ((input * weight) > 0.5) * 1\n",
        "  error = ((input > 5) - pred) ** 2\n",
        "  print(f'INPUT: {input}, PRED: {round(pred, 2)}, ERROR: {round(error, 2)}')"
      ],
      "metadata": {
        "colab": {
          "base_uri": "https://localhost:8080/"
        },
        "id": "WBK08TmBYJ4I",
        "outputId": "39eac767-0b3e-401c-b4e8-15dfe1e4f1c2"
      },
      "execution_count": null,
      "outputs": [
        {
          "output_type": "stream",
          "name": "stdout",
          "text": [
            "INPUT: 1, PRED: 0, ERROR: 0\n",
            "INPUT: 2, PRED: 0, ERROR: 0\n",
            "INPUT: 3, PRED: 0, ERROR: 0\n",
            "INPUT: 4, PRED: 0, ERROR: 0\n",
            "INPUT: 5, PRED: 0, ERROR: 0\n",
            "INPUT: 6, PRED: 1, ERROR: 0\n",
            "INPUT: 7, PRED: 1, ERROR: 0\n",
            "INPUT: 8, PRED: 1, ERROR: 0\n",
            "INPUT: 9, PRED: 1, ERROR: 0\n",
            "INPUT: 10, PRED: 1, ERROR: 0\n"
          ]
        }
      ]
    },
    {
      "cell_type": "code",
      "source": [
        "weight"
      ],
      "metadata": {
        "colab": {
          "base_uri": "https://localhost:8080/"
        },
        "id": "7UCAGC3IYPLW",
        "outputId": "312e9c4c-0eaf-42a9-a342-a74099c7ee65"
      },
      "execution_count": null,
      "outputs": [
        {
          "output_type": "execute_result",
          "data": {
            "text/plain": [
              "0.09137589513645544"
            ]
          },
          "metadata": {},
          "execution_count": 66
        }
      ]
    },
    {
      "cell_type": "markdown",
      "source": [
        "Единственное, что делает вес нейрона - это уменьшает входное значение в 10 раз. Все остальное делает функкция актвивации, активирующая нейрон когда на входе значение больше 0.5. Такая же функия применялась и для формирования меток y. На графиках можно заметить что с функицей активации нейрон учился в два раза медленнее. "
      ],
      "metadata": {
        "id": "DYvCgPjBY5cg"
      }
    },
    {
      "cell_type": "markdown",
      "source": [
        "# Два входа, один нейрон\n"
      ],
      "metadata": {
        "id": "lsgDn-i9b7Sl"
      }
    },
    {
      "cell_type": "code",
      "source": [
        "import numpy as np\n",
        "import matplotlib.pyplot as plt"
      ],
      "metadata": {
        "id": "SAJih6PCb_AB"
      },
      "execution_count": null,
      "outputs": []
    },
    {
      "cell_type": "code",
      "source": [
        "x_train = np.random.randint(10, size=(100, 2))\n",
        "y_train = []\n",
        "for i in range(len(x_train)):\n",
        "  y_train.append(1 if (x_train[i][0] + x_train[i][1]) >= 13 else 0)\n",
        "y_train = np.array(y_train)"
      ],
      "metadata": {
        "id": "ULQDrMzNcG9i"
      },
      "execution_count": null,
      "outputs": []
    },
    {
      "cell_type": "code",
      "source": [
        "y_train.mean()"
      ],
      "metadata": {
        "colab": {
          "base_uri": "https://localhost:8080/"
        },
        "id": "zFSmju-gfMwI",
        "outputId": "0e97fc24-c74f-410d-b467-135f43df608c"
      },
      "execution_count": null,
      "outputs": [
        {
          "output_type": "execute_result",
          "data": {
            "text/plain": [
              "0.21"
            ]
          },
          "metadata": {},
          "execution_count": 69
        }
      ]
    },
    {
      "cell_type": "code",
      "source": [
        "#Здесь сразу же напишу ступенчатую функцию активации\n",
        "def more_than(x):\n",
        "  return (x > 0.5) * 1"
      ],
      "metadata": {
        "id": "ZDJjiSjolcmg"
      },
      "execution_count": null,
      "outputs": []
    },
    {
      "cell_type": "code",
      "source": [
        "weights = np.random.random(size=(2,1)) # Сейчас у нас имеется два входа, значит и весов должно быть два\n",
        "weights"
      ],
      "metadata": {
        "colab": {
          "base_uri": "https://localhost:8080/"
        },
        "id": "AP21cL77gj4x",
        "outputId": "20f2cd6d-ddce-4d6f-d889-457aa899f41e"
      },
      "execution_count": null,
      "outputs": [
        {
          "output_type": "execute_result",
          "data": {
            "text/plain": [
              "array([[0.66573971],\n",
              "       [0.6649115 ]])"
            ]
          },
          "metadata": {},
          "execution_count": 86
        }
      ]
    },
    {
      "cell_type": "code",
      "source": [
        "total_error = []\n",
        "total_weights = []\n",
        "for iter in range(10):\n",
        "  round_error = []\n",
        "  for i in range(len(x_train)):\n",
        "    pred = more_than(x_train[i].dot(weights))\n",
        "    error = (y_train[i] - pred) ** 2\n",
        "    round_error.append(error)\n",
        "    delta = y_train[i] - pred\n",
        "    weights += delta * 0.1 \n",
        "    # print(f'PRED: {pred}, ERROR: {error}, DELTA: {delta}, W: {weights}')\n",
        "    # print(f'R_ERROR: {np.mean(np.array(round_error))}')\n",
        "  total_error.append(np.array(round_error).mean())"
      ],
      "metadata": {
        "id": "QwVrZ_M2jhUs"
      },
      "execution_count": null,
      "outputs": []
    },
    {
      "cell_type": "code",
      "source": [
        "total_error"
      ],
      "metadata": {
        "colab": {
          "base_uri": "https://localhost:8080/"
        },
        "id": "1AcXr8PmoXa9",
        "outputId": "f231c0ad-0418-49a8-ef39-c66a51b40cc0"
      },
      "execution_count": null,
      "outputs": [
        {
          "output_type": "execute_result",
          "data": {
            "text/plain": [
              "[0.25, 0.2, 0.2, 0.2, 0.2, 0.2, 0.2, 0.2, 0.2, 0.2]"
            ]
          },
          "metadata": {},
          "execution_count": 88
        }
      ]
    },
    {
      "cell_type": "code",
      "source": [
        "plt.figure(figsize=(5, 5))\n",
        "plt.plot(total_error)\n",
        "plt.xlim((0,10))\n",
        "plt.show()"
      ],
      "metadata": {
        "colab": {
          "base_uri": "https://localhost:8080/",
          "height": 320
        },
        "id": "4Mkf7iaNk1O2",
        "outputId": "f64fa15b-359d-42b0-ed05-02f4b9dd6062"
      },
      "execution_count": null,
      "outputs": [
        {
          "output_type": "display_data",
          "data": {
            "text/plain": [
              "<Figure size 360x360 with 1 Axes>"
            ],
            "image/png": "[encoded data removed]"
          },
          "metadata": {
            "needs_background": "light"
          }
        }
      ]
    },
    {
      "cell_type": "markdown",
      "source": [
        "По графику ошибки видно, что обучение одного нейрона не дает результата. Происходит постоянная корректировка весов, однако, точность не увеличивается."
      ],
      "metadata": {
        "id": "St7i31jxU537"
      }
    },
    {
      "cell_type": "code",
      "source": [
        "x_test = np.random.randint(10, size=(10, 2))\n",
        "y_test = []\n",
        "for i in range(len(x_test)):\n",
        "  y_test.append(1 if (x_test[i][0] + x_test[i][1]) >= 13 else 0)\n",
        "y_test = np.array(y_test)"
      ],
      "metadata": {
        "id": "ujhXKn4DjrvC"
      },
      "execution_count": null,
      "outputs": []
    },
    {
      "cell_type": "code",
      "source": [
        "for id in range(len(x_test)):\n",
        "  pred = more_than(x_train[id].dot(weights))\n",
        "  error = (y_test[id] - pred) ** 2\n",
        "  \n",
        "  print(f'INPUT: {x_test[id]}, Y: {y_test[id]}, PRED: {np.around(pred, decimals=2)}, ERROR: {np.around(error, decimals=2)}')"
      ],
      "metadata": {
        "colab": {
          "base_uri": "https://localhost:8080/"
        },
        "id": "7NqrSe7MjmZJ",
        "outputId": "4a300807-a7c3-4eb2-f997-ffaafc9f804f"
      },
      "execution_count": null,
      "outputs": [
        {
          "output_type": "stream",
          "name": "stdout",
          "text": [
            "INPUT: [9 5], Y: 1, PRED: [0], ERROR: [1]\n",
            "INPUT: [3 2], Y: 0, PRED: [0], ERROR: [0]\n",
            "INPUT: [0 6], Y: 0, PRED: [0], ERROR: [0]\n",
            "INPUT: [5 0], Y: 0, PRED: [0], ERROR: [0]\n",
            "INPUT: [1 0], Y: 0, PRED: [0], ERROR: [0]\n",
            "INPUT: [2 1], Y: 0, PRED: [0], ERROR: [0]\n",
            "INPUT: [9 4], Y: 1, PRED: [0], ERROR: [1]\n",
            "INPUT: [6 5], Y: 0, PRED: [0], ERROR: [0]\n",
            "INPUT: [6 9], Y: 1, PRED: [0], ERROR: [1]\n",
            "INPUT: [1 8], Y: 0, PRED: [0], ERROR: [0]\n"
          ]
        }
      ]
    },
    {
      "cell_type": "markdown",
      "source": [
        "В настоящий момент, у меня не получилось обучить один нейрон понимать является ли сумма входных значений больше заданного числа или нет. Отсутствуйет явно выраженная корреляция между входным значениями и целью. Нейрон понял что наименьшая ошибка получается, если всегда выдавать 0, что неудивительно"
      ],
      "metadata": {
        "id": "k8yokdmhTWJZ"
      }
    },
    {
      "cell_type": "code",
      "source": [
        ""
      ],
      "metadata": {
        "id": "g9MvfVRWpnA6"
      },
      "execution_count": null,
      "outputs": []
    }
  ]
}